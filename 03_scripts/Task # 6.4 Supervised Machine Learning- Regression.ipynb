{
 "cells": [
  {
   "cell_type": "markdown",
   "id": "0e21106b",
   "metadata": {},
   "source": [
    "# Contents \n",
    "1. Importing libraries and data\n",
    "2. Data cleaning\n",
    "3. Data prep for regression analysis\n",
    "4. Regression analysis"
   ]
  },
  {
   "cell_type": "markdown",
   "id": "ab62ecae",
   "metadata": {},
   "source": [
    "## Importing libraries and data"
   ]
  },
  {
   "cell_type": "code",
   "execution_count": 152,
   "id": "88767884",
   "metadata": {},
   "outputs": [],
   "source": [
    "import pandas as pd\n",
    "import numpy as np\n",
    "import seaborn as sns\n",
    "import matplotlib\n",
    "import matplotlib.pyplot as plt\n",
    "import os\n",
    "import sklearn\n",
    "from sklearn.model_selection import train_test_split \n",
    "from sklearn.linear_model import LinearRegression\n",
    "from sklearn.metrics import mean_squared_error, r2_score\n",
    "import warnings\n",
    "warnings.filterwarnings('ignore')"
   ]
  },
  {
   "cell_type": "code",
   "execution_count": 153,
   "id": "a2c5e9c8",
   "metadata": {},
   "outputs": [],
   "source": [
    "# This will ensure that the graphs I create are displayed within the notebook without the need to \"call\" them specifically.\n",
    "%matplotlib inline"
   ]
  },
  {
   "cell_type": "code",
   "execution_count": 154,
   "id": "9f4d4b07",
   "metadata": {},
   "outputs": [],
   "source": [
    "path = r'C:\\Users\\TemporaryAdmin\\Desktop\\yoana_learning\\Data Analytics\\Immension\\tasks\\my_tasks\\part_6\\02_data\\prepared_data'"
   ]
  },
  {
   "cell_type": "code",
   "execution_count": 155,
   "id": "4a14f42e",
   "metadata": {},
   "outputs": [],
   "source": [
    "df = pd.read_csv(os.path.join(path, 'agricultural_methane_emissions_years_final_new.csv'))"
   ]
  },
  {
   "cell_type": "markdown",
   "id": "21c07b27",
   "metadata": {},
   "source": [
    "## Data cleaning"
   ]
  },
  {
   "cell_type": "code",
   "execution_count": 156,
   "id": "cec3b830",
   "metadata": {},
   "outputs": [
    {
     "data": {
      "text/plain": [
       "Index(['Unnamed: 0', 'Afghanistan', 'Albania', 'Algeria', 'Angola',\n",
       "       'Antigua and Barbuda', 'Argentina', 'Armenia', 'Australia', 'Austria',\n",
       "       ...\n",
       "       'Post-demographic dividend', 'Pre-demographic dividend', 'Small states',\n",
       "       'South Asia', 'South Asia (IDA & IBRD)', 'Sub-Saharan Africa',\n",
       "       'Sub-Saharan Africa (excluding high income)',\n",
       "       'Sub-Saharan Africa (IDA & IBRD countries)', 'Upper middle income',\n",
       "       'World'],\n",
       "      dtype='object', length=224)"
      ]
     },
     "execution_count": 156,
     "metadata": {},
     "output_type": "execute_result"
    }
   ],
   "source": [
    "df.columns"
   ]
  },
  {
   "cell_type": "code",
   "execution_count": 157,
   "id": "116aa589",
   "metadata": {},
   "outputs": [
    {
     "data": {
      "text/html": [
       "<div>\n",
       "<style scoped>\n",
       "    .dataframe tbody tr th:only-of-type {\n",
       "        vertical-align: middle;\n",
       "    }\n",
       "\n",
       "    .dataframe tbody tr th {\n",
       "        vertical-align: top;\n",
       "    }\n",
       "\n",
       "    .dataframe thead th {\n",
       "        text-align: right;\n",
       "    }\n",
       "</style>\n",
       "<table border=\"1\" class=\"dataframe\">\n",
       "  <thead>\n",
       "    <tr style=\"text-align: right;\">\n",
       "      <th></th>\n",
       "      <th>Unnamed: 0</th>\n",
       "      <th>Afghanistan</th>\n",
       "      <th>Albania</th>\n",
       "      <th>Algeria</th>\n",
       "      <th>Angola</th>\n",
       "      <th>Antigua and Barbuda</th>\n",
       "      <th>Argentina</th>\n",
       "      <th>Armenia</th>\n",
       "      <th>Australia</th>\n",
       "      <th>Austria</th>\n",
       "      <th>...</th>\n",
       "      <th>Post-demographic dividend</th>\n",
       "      <th>Pre-demographic dividend</th>\n",
       "      <th>Small states</th>\n",
       "      <th>South Asia</th>\n",
       "      <th>South Asia (IDA &amp; IBRD)</th>\n",
       "      <th>Sub-Saharan Africa</th>\n",
       "      <th>Sub-Saharan Africa (excluding high income)</th>\n",
       "      <th>Sub-Saharan Africa (IDA &amp; IBRD countries)</th>\n",
       "      <th>Upper middle income</th>\n",
       "      <th>World</th>\n",
       "    </tr>\n",
       "  </thead>\n",
       "  <tbody>\n",
       "    <tr>\n",
       "      <th>0</th>\n",
       "      <td>1971</td>\n",
       "      <td>7819.39</td>\n",
       "      <td>948.33</td>\n",
       "      <td>2267.04</td>\n",
       "      <td>8003.67</td>\n",
       "      <td>13.55</td>\n",
       "      <td>71391.92</td>\n",
       "      <td>1017.12</td>\n",
       "      <td>71299.39</td>\n",
       "      <td>4790.85</td>\n",
       "      <td>...</td>\n",
       "      <td>643214.54</td>\n",
       "      <td>203167.89</td>\n",
       "      <td>16282.50</td>\n",
       "      <td>462081.02</td>\n",
       "      <td>462081.02</td>\n",
       "      <td>251448.90</td>\n",
       "      <td>251446.39</td>\n",
       "      <td>251448.90</td>\n",
       "      <td>1163422.42</td>\n",
       "      <td>2840961.47</td>\n",
       "    </tr>\n",
       "    <tr>\n",
       "      <th>1</th>\n",
       "      <td>1972</td>\n",
       "      <td>6672.29</td>\n",
       "      <td>930.32</td>\n",
       "      <td>2302.15</td>\n",
       "      <td>8901.30</td>\n",
       "      <td>13.47</td>\n",
       "      <td>74545.78</td>\n",
       "      <td>1047.96</td>\n",
       "      <td>78476.61</td>\n",
       "      <td>4760.50</td>\n",
       "      <td>...</td>\n",
       "      <td>654075.80</td>\n",
       "      <td>206064.10</td>\n",
       "      <td>16770.15</td>\n",
       "      <td>459594.90</td>\n",
       "      <td>459594.90</td>\n",
       "      <td>256212.48</td>\n",
       "      <td>256209.65</td>\n",
       "      <td>256212.48</td>\n",
       "      <td>1182836.11</td>\n",
       "      <td>2871562.42</td>\n",
       "    </tr>\n",
       "    <tr>\n",
       "      <th>2</th>\n",
       "      <td>1973</td>\n",
       "      <td>6960.20</td>\n",
       "      <td>960.89</td>\n",
       "      <td>2260.93</td>\n",
       "      <td>9776.05</td>\n",
       "      <td>13.23</td>\n",
       "      <td>77497.37</td>\n",
       "      <td>1067.61</td>\n",
       "      <td>71135.55</td>\n",
       "      <td>4810.32</td>\n",
       "      <td>...</td>\n",
       "      <td>654901.52</td>\n",
       "      <td>217738.87</td>\n",
       "      <td>17474.05</td>\n",
       "      <td>466486.88</td>\n",
       "      <td>466486.88</td>\n",
       "      <td>270082.52</td>\n",
       "      <td>270079.60</td>\n",
       "      <td>270082.52</td>\n",
       "      <td>1194238.39</td>\n",
       "      <td>2911944.73</td>\n",
       "    </tr>\n",
       "    <tr>\n",
       "      <th>3</th>\n",
       "      <td>1974</td>\n",
       "      <td>7378.03</td>\n",
       "      <td>985.79</td>\n",
       "      <td>2352.50</td>\n",
       "      <td>8063.48</td>\n",
       "      <td>12.83</td>\n",
       "      <td>77495.49</td>\n",
       "      <td>1099.75</td>\n",
       "      <td>75657.35</td>\n",
       "      <td>4945.58</td>\n",
       "      <td>...</td>\n",
       "      <td>674127.91</td>\n",
       "      <td>188037.33</td>\n",
       "      <td>17748.55</td>\n",
       "      <td>468547.08</td>\n",
       "      <td>468547.08</td>\n",
       "      <td>238223.69</td>\n",
       "      <td>238220.58</td>\n",
       "      <td>238223.69</td>\n",
       "      <td>1208394.15</td>\n",
       "      <td>2915398.22</td>\n",
       "    </tr>\n",
       "    <tr>\n",
       "      <th>4</th>\n",
       "      <td>1975</td>\n",
       "      <td>7836.13</td>\n",
       "      <td>1001.59</td>\n",
       "      <td>2512.39</td>\n",
       "      <td>10215.46</td>\n",
       "      <td>12.78</td>\n",
       "      <td>79162.96</td>\n",
       "      <td>1129.59</td>\n",
       "      <td>81516.08</td>\n",
       "      <td>4934.70</td>\n",
       "      <td>...</td>\n",
       "      <td>683966.76</td>\n",
       "      <td>210797.27</td>\n",
       "      <td>18043.21</td>\n",
       "      <td>477161.86</td>\n",
       "      <td>477161.86</td>\n",
       "      <td>261745.93</td>\n",
       "      <td>261742.64</td>\n",
       "      <td>261745.93</td>\n",
       "      <td>1229920.65</td>\n",
       "      <td>2979621.95</td>\n",
       "    </tr>\n",
       "    <tr>\n",
       "      <th>5</th>\n",
       "      <td>1976</td>\n",
       "      <td>7954.05</td>\n",
       "      <td>1062.28</td>\n",
       "      <td>2459.48</td>\n",
       "      <td>8601.50</td>\n",
       "      <td>12.80</td>\n",
       "      <td>81324.55</td>\n",
       "      <td>1130.86</td>\n",
       "      <td>86607.28</td>\n",
       "      <td>4891.35</td>\n",
       "      <td>...</td>\n",
       "      <td>683092.77</td>\n",
       "      <td>206048.57</td>\n",
       "      <td>17575.70</td>\n",
       "      <td>474672.77</td>\n",
       "      <td>474672.77</td>\n",
       "      <td>256464.56</td>\n",
       "      <td>256461.25</td>\n",
       "      <td>256464.56</td>\n",
       "      <td>1253881.16</td>\n",
       "      <td>2992540.36</td>\n",
       "    </tr>\n",
       "    <tr>\n",
       "      <th>6</th>\n",
       "      <td>1977</td>\n",
       "      <td>7781.35</td>\n",
       "      <td>1100.96</td>\n",
       "      <td>2696.95</td>\n",
       "      <td>10360.98</td>\n",
       "      <td>12.91</td>\n",
       "      <td>84699.39</td>\n",
       "      <td>1134.36</td>\n",
       "      <td>81711.86</td>\n",
       "      <td>4949.29</td>\n",
       "      <td>...</td>\n",
       "      <td>675178.55</td>\n",
       "      <td>232401.61</td>\n",
       "      <td>19022.06</td>\n",
       "      <td>484468.07</td>\n",
       "      <td>484468.07</td>\n",
       "      <td>286659.49</td>\n",
       "      <td>286656.40</td>\n",
       "      <td>286659.49</td>\n",
       "      <td>1248804.65</td>\n",
       "      <td>3022537.34</td>\n",
       "    </tr>\n",
       "    <tr>\n",
       "      <th>7</th>\n",
       "      <td>1978</td>\n",
       "      <td>7719.37</td>\n",
       "      <td>1168.09</td>\n",
       "      <td>2841.67</td>\n",
       "      <td>11075.28</td>\n",
       "      <td>15.49</td>\n",
       "      <td>80597.94</td>\n",
       "      <td>1156.88</td>\n",
       "      <td>72367.10</td>\n",
       "      <td>4994.43</td>\n",
       "      <td>...</td>\n",
       "      <td>664422.25</td>\n",
       "      <td>227305.46</td>\n",
       "      <td>18907.18</td>\n",
       "      <td>491679.26</td>\n",
       "      <td>491679.26</td>\n",
       "      <td>279801.49</td>\n",
       "      <td>279798.19</td>\n",
       "      <td>279801.49</td>\n",
       "      <td>1232434.36</td>\n",
       "      <td>3002825.73</td>\n",
       "    </tr>\n",
       "    <tr>\n",
       "      <th>8</th>\n",
       "      <td>1979</td>\n",
       "      <td>7541.71</td>\n",
       "      <td>1217.13</td>\n",
       "      <td>3133.01</td>\n",
       "      <td>15643.85</td>\n",
       "      <td>19.38</td>\n",
       "      <td>79536.52</td>\n",
       "      <td>1171.21</td>\n",
       "      <td>75951.25</td>\n",
       "      <td>5103.54</td>\n",
       "      <td>...</td>\n",
       "      <td>666747.41</td>\n",
       "      <td>266375.09</td>\n",
       "      <td>20035.06</td>\n",
       "      <td>492598.82</td>\n",
       "      <td>492598.82</td>\n",
       "      <td>322525.75</td>\n",
       "      <td>322522.27</td>\n",
       "      <td>322525.75</td>\n",
       "      <td>1229392.08</td>\n",
       "      <td>3039479.46</td>\n",
       "    </tr>\n",
       "    <tr>\n",
       "      <th>9</th>\n",
       "      <td>1980</td>\n",
       "      <td>7450.50</td>\n",
       "      <td>1257.07</td>\n",
       "      <td>3280.73</td>\n",
       "      <td>12320.03</td>\n",
       "      <td>22.06</td>\n",
       "      <td>78082.19</td>\n",
       "      <td>1179.23</td>\n",
       "      <td>77142.66</td>\n",
       "      <td>5075.16</td>\n",
       "      <td>...</td>\n",
       "      <td>675399.72</td>\n",
       "      <td>266210.45</td>\n",
       "      <td>19584.57</td>\n",
       "      <td>491552.94</td>\n",
       "      <td>491552.94</td>\n",
       "      <td>322252.14</td>\n",
       "      <td>322248.46</td>\n",
       "      <td>322252.14</td>\n",
       "      <td>1243881.18</td>\n",
       "      <td>3072596.43</td>\n",
       "    </tr>\n",
       "    <tr>\n",
       "      <th>10</th>\n",
       "      <td>1981</td>\n",
       "      <td>7393.60</td>\n",
       "      <td>1279.99</td>\n",
       "      <td>3342.54</td>\n",
       "      <td>10226.88</td>\n",
       "      <td>22.00</td>\n",
       "      <td>76166.27</td>\n",
       "      <td>1177.07</td>\n",
       "      <td>66259.12</td>\n",
       "      <td>4997.78</td>\n",
       "      <td>...</td>\n",
       "      <td>666965.19</td>\n",
       "      <td>238323.13</td>\n",
       "      <td>18556.43</td>\n",
       "      <td>498394.24</td>\n",
       "      <td>498394.24</td>\n",
       "      <td>290507.54</td>\n",
       "      <td>290503.65</td>\n",
       "      <td>290507.54</td>\n",
       "      <td>1233669.44</td>\n",
       "      <td>3027894.34</td>\n",
       "    </tr>\n",
       "    <tr>\n",
       "      <th>11</th>\n",
       "      <td>1982</td>\n",
       "      <td>7327.15</td>\n",
       "      <td>1291.02</td>\n",
       "      <td>3506.66</td>\n",
       "      <td>11974.22</td>\n",
       "      <td>23.35</td>\n",
       "      <td>74180.04</td>\n",
       "      <td>1192.53</td>\n",
       "      <td>72806.32</td>\n",
       "      <td>5080.30</td>\n",
       "      <td>...</td>\n",
       "      <td>674210.84</td>\n",
       "      <td>265890.73</td>\n",
       "      <td>19280.72</td>\n",
       "      <td>496388.95</td>\n",
       "      <td>496388.95</td>\n",
       "      <td>321045.66</td>\n",
       "      <td>321042.06</td>\n",
       "      <td>321045.66</td>\n",
       "      <td>1235021.02</td>\n",
       "      <td>3071454.18</td>\n",
       "    </tr>\n",
       "    <tr>\n",
       "      <th>12</th>\n",
       "      <td>1983</td>\n",
       "      <td>6857.48</td>\n",
       "      <td>1315.63</td>\n",
       "      <td>3665.27</td>\n",
       "      <td>11795.27</td>\n",
       "      <td>23.48</td>\n",
       "      <td>75447.80</td>\n",
       "      <td>1217.68</td>\n",
       "      <td>64423.41</td>\n",
       "      <td>5106.83</td>\n",
       "      <td>...</td>\n",
       "      <td>661078.19</td>\n",
       "      <td>256255.82</td>\n",
       "      <td>18593.72</td>\n",
       "      <td>502470.66</td>\n",
       "      <td>502470.66</td>\n",
       "      <td>311573.33</td>\n",
       "      <td>311569.92</td>\n",
       "      <td>311573.33</td>\n",
       "      <td>1243053.71</td>\n",
       "      <td>3062602.60</td>\n",
       "    </tr>\n",
       "    <tr>\n",
       "      <th>13</th>\n",
       "      <td>1984</td>\n",
       "      <td>5970.79</td>\n",
       "      <td>1313.61</td>\n",
       "      <td>3524.96</td>\n",
       "      <td>8215.22</td>\n",
       "      <td>23.61</td>\n",
       "      <td>76118.51</td>\n",
       "      <td>1248.17</td>\n",
       "      <td>65651.00</td>\n",
       "      <td>5216.57</td>\n",
       "      <td>...</td>\n",
       "      <td>668239.14</td>\n",
       "      <td>228905.59</td>\n",
       "      <td>17634.16</td>\n",
       "      <td>508107.30</td>\n",
       "      <td>508107.30</td>\n",
       "      <td>282384.14</td>\n",
       "      <td>282380.82</td>\n",
       "      <td>282384.14</td>\n",
       "      <td>1240505.05</td>\n",
       "      <td>3035226.34</td>\n",
       "    </tr>\n",
       "    <tr>\n",
       "      <th>14</th>\n",
       "      <td>1985</td>\n",
       "      <td>5302.55</td>\n",
       "      <td>1262.20</td>\n",
       "      <td>3522.20</td>\n",
       "      <td>8459.73</td>\n",
       "      <td>26.28</td>\n",
       "      <td>75307.59</td>\n",
       "      <td>1265.05</td>\n",
       "      <td>76341.84</td>\n",
       "      <td>5278.92</td>\n",
       "      <td>...</td>\n",
       "      <td>672932.85</td>\n",
       "      <td>221966.54</td>\n",
       "      <td>17367.57</td>\n",
       "      <td>509024.07</td>\n",
       "      <td>509024.07</td>\n",
       "      <td>275648.28</td>\n",
       "      <td>275644.57</td>\n",
       "      <td>275648.28</td>\n",
       "      <td>1227241.26</td>\n",
       "      <td>3026622.06</td>\n",
       "    </tr>\n",
       "    <tr>\n",
       "      <th>15</th>\n",
       "      <td>1986</td>\n",
       "      <td>4394.66</td>\n",
       "      <td>1332.30</td>\n",
       "      <td>3455.44</td>\n",
       "      <td>8072.50</td>\n",
       "      <td>26.33</td>\n",
       "      <td>74253.79</td>\n",
       "      <td>1260.85</td>\n",
       "      <td>71804.96</td>\n",
       "      <td>5233.17</td>\n",
       "      <td>...</td>\n",
       "      <td>664715.03</td>\n",
       "      <td>219440.55</td>\n",
       "      <td>17558.90</td>\n",
       "      <td>517974.16</td>\n",
       "      <td>517974.16</td>\n",
       "      <td>275821.54</td>\n",
       "      <td>275817.67</td>\n",
       "      <td>275821.54</td>\n",
       "      <td>1238406.95</td>\n",
       "      <td>3043764.04</td>\n",
       "    </tr>\n",
       "    <tr>\n",
       "      <th>16</th>\n",
       "      <td>1987</td>\n",
       "      <td>4760.69</td>\n",
       "      <td>1456.88</td>\n",
       "      <td>3585.98</td>\n",
       "      <td>12456.90</td>\n",
       "      <td>26.32</td>\n",
       "      <td>73259.04</td>\n",
       "      <td>1274.29</td>\n",
       "      <td>66154.24</td>\n",
       "      <td>5179.36</td>\n",
       "      <td>...</td>\n",
       "      <td>648179.80</td>\n",
       "      <td>251561.96</td>\n",
       "      <td>18885.92</td>\n",
       "      <td>510404.91</td>\n",
       "      <td>510404.91</td>\n",
       "      <td>308995.49</td>\n",
       "      <td>308991.58</td>\n",
       "      <td>308995.49</td>\n",
       "      <td>1257327.98</td>\n",
       "      <td>3073432.28</td>\n",
       "    </tr>\n",
       "    <tr>\n",
       "      <th>17</th>\n",
       "      <td>1988</td>\n",
       "      <td>5054.15</td>\n",
       "      <td>1542.90</td>\n",
       "      <td>3568.52</td>\n",
       "      <td>7476.44</td>\n",
       "      <td>26.30</td>\n",
       "      <td>75509.40</td>\n",
       "      <td>1248.02</td>\n",
       "      <td>67192.35</td>\n",
       "      <td>5060.68</td>\n",
       "      <td>...</td>\n",
       "      <td>646826.47</td>\n",
       "      <td>218363.07</td>\n",
       "      <td>17814.58</td>\n",
       "      <td>522135.83</td>\n",
       "      <td>522135.83</td>\n",
       "      <td>273245.58</td>\n",
       "      <td>273241.53</td>\n",
       "      <td>273245.58</td>\n",
       "      <td>1257808.00</td>\n",
       "      <td>3044655.33</td>\n",
       "    </tr>\n",
       "    <tr>\n",
       "      <th>18</th>\n",
       "      <td>1989</td>\n",
       "      <td>4962.40</td>\n",
       "      <td>1593.22</td>\n",
       "      <td>3672.45</td>\n",
       "      <td>8892.40</td>\n",
       "      <td>23.77</td>\n",
       "      <td>77006.24</td>\n",
       "      <td>1260.79</td>\n",
       "      <td>70496.75</td>\n",
       "      <td>4955.28</td>\n",
       "      <td>...</td>\n",
       "      <td>647273.30</td>\n",
       "      <td>239980.63</td>\n",
       "      <td>18531.69</td>\n",
       "      <td>527503.94</td>\n",
       "      <td>527503.94</td>\n",
       "      <td>298908.37</td>\n",
       "      <td>298904.25</td>\n",
       "      <td>298908.37</td>\n",
       "      <td>1280854.24</td>\n",
       "      <td>3102061.70</td>\n",
       "    </tr>\n",
       "    <tr>\n",
       "      <th>19</th>\n",
       "      <td>1990</td>\n",
       "      <td>5360.00</td>\n",
       "      <td>2200.00</td>\n",
       "      <td>4360.00</td>\n",
       "      <td>15040.00</td>\n",
       "      <td>30.00</td>\n",
       "      <td>84680.00</td>\n",
       "      <td>810.00</td>\n",
       "      <td>103350.00</td>\n",
       "      <td>6570.00</td>\n",
       "      <td>...</td>\n",
       "      <td>737580.00</td>\n",
       "      <td>258890.00</td>\n",
       "      <td>20270.00</td>\n",
       "      <td>570420.00</td>\n",
       "      <td>570420.00</td>\n",
       "      <td>324190.00</td>\n",
       "      <td>324190.00</td>\n",
       "      <td>324190.00</td>\n",
       "      <td>1171570.00</td>\n",
       "      <td>3152440.00</td>\n",
       "    </tr>\n",
       "  </tbody>\n",
       "</table>\n",
       "<p>20 rows × 224 columns</p>\n",
       "</div>"
      ],
      "text/plain": [
       "    Unnamed: 0  Afghanistan  Albania  Algeria    Angola  Antigua and Barbuda  \\\n",
       "0         1971      7819.39   948.33  2267.04   8003.67                13.55   \n",
       "1         1972      6672.29   930.32  2302.15   8901.30                13.47   \n",
       "2         1973      6960.20   960.89  2260.93   9776.05                13.23   \n",
       "3         1974      7378.03   985.79  2352.50   8063.48                12.83   \n",
       "4         1975      7836.13  1001.59  2512.39  10215.46                12.78   \n",
       "5         1976      7954.05  1062.28  2459.48   8601.50                12.80   \n",
       "6         1977      7781.35  1100.96  2696.95  10360.98                12.91   \n",
       "7         1978      7719.37  1168.09  2841.67  11075.28                15.49   \n",
       "8         1979      7541.71  1217.13  3133.01  15643.85                19.38   \n",
       "9         1980      7450.50  1257.07  3280.73  12320.03                22.06   \n",
       "10        1981      7393.60  1279.99  3342.54  10226.88                22.00   \n",
       "11        1982      7327.15  1291.02  3506.66  11974.22                23.35   \n",
       "12        1983      6857.48  1315.63  3665.27  11795.27                23.48   \n",
       "13        1984      5970.79  1313.61  3524.96   8215.22                23.61   \n",
       "14        1985      5302.55  1262.20  3522.20   8459.73                26.28   \n",
       "15        1986      4394.66  1332.30  3455.44   8072.50                26.33   \n",
       "16        1987      4760.69  1456.88  3585.98  12456.90                26.32   \n",
       "17        1988      5054.15  1542.90  3568.52   7476.44                26.30   \n",
       "18        1989      4962.40  1593.22  3672.45   8892.40                23.77   \n",
       "19        1990      5360.00  2200.00  4360.00  15040.00                30.00   \n",
       "\n",
       "    Argentina  Armenia  Australia  Austria  ...  Post-demographic dividend  \\\n",
       "0    71391.92  1017.12   71299.39  4790.85  ...                  643214.54   \n",
       "1    74545.78  1047.96   78476.61  4760.50  ...                  654075.80   \n",
       "2    77497.37  1067.61   71135.55  4810.32  ...                  654901.52   \n",
       "3    77495.49  1099.75   75657.35  4945.58  ...                  674127.91   \n",
       "4    79162.96  1129.59   81516.08  4934.70  ...                  683966.76   \n",
       "5    81324.55  1130.86   86607.28  4891.35  ...                  683092.77   \n",
       "6    84699.39  1134.36   81711.86  4949.29  ...                  675178.55   \n",
       "7    80597.94  1156.88   72367.10  4994.43  ...                  664422.25   \n",
       "8    79536.52  1171.21   75951.25  5103.54  ...                  666747.41   \n",
       "9    78082.19  1179.23   77142.66  5075.16  ...                  675399.72   \n",
       "10   76166.27  1177.07   66259.12  4997.78  ...                  666965.19   \n",
       "11   74180.04  1192.53   72806.32  5080.30  ...                  674210.84   \n",
       "12   75447.80  1217.68   64423.41  5106.83  ...                  661078.19   \n",
       "13   76118.51  1248.17   65651.00  5216.57  ...                  668239.14   \n",
       "14   75307.59  1265.05   76341.84  5278.92  ...                  672932.85   \n",
       "15   74253.79  1260.85   71804.96  5233.17  ...                  664715.03   \n",
       "16   73259.04  1274.29   66154.24  5179.36  ...                  648179.80   \n",
       "17   75509.40  1248.02   67192.35  5060.68  ...                  646826.47   \n",
       "18   77006.24  1260.79   70496.75  4955.28  ...                  647273.30   \n",
       "19   84680.00   810.00  103350.00  6570.00  ...                  737580.00   \n",
       "\n",
       "    Pre-demographic dividend  Small states  South Asia  \\\n",
       "0                  203167.89      16282.50   462081.02   \n",
       "1                  206064.10      16770.15   459594.90   \n",
       "2                  217738.87      17474.05   466486.88   \n",
       "3                  188037.33      17748.55   468547.08   \n",
       "4                  210797.27      18043.21   477161.86   \n",
       "5                  206048.57      17575.70   474672.77   \n",
       "6                  232401.61      19022.06   484468.07   \n",
       "7                  227305.46      18907.18   491679.26   \n",
       "8                  266375.09      20035.06   492598.82   \n",
       "9                  266210.45      19584.57   491552.94   \n",
       "10                 238323.13      18556.43   498394.24   \n",
       "11                 265890.73      19280.72   496388.95   \n",
       "12                 256255.82      18593.72   502470.66   \n",
       "13                 228905.59      17634.16   508107.30   \n",
       "14                 221966.54      17367.57   509024.07   \n",
       "15                 219440.55      17558.90   517974.16   \n",
       "16                 251561.96      18885.92   510404.91   \n",
       "17                 218363.07      17814.58   522135.83   \n",
       "18                 239980.63      18531.69   527503.94   \n",
       "19                 258890.00      20270.00   570420.00   \n",
       "\n",
       "    South Asia (IDA & IBRD)  Sub-Saharan Africa  \\\n",
       "0                 462081.02           251448.90   \n",
       "1                 459594.90           256212.48   \n",
       "2                 466486.88           270082.52   \n",
       "3                 468547.08           238223.69   \n",
       "4                 477161.86           261745.93   \n",
       "5                 474672.77           256464.56   \n",
       "6                 484468.07           286659.49   \n",
       "7                 491679.26           279801.49   \n",
       "8                 492598.82           322525.75   \n",
       "9                 491552.94           322252.14   \n",
       "10                498394.24           290507.54   \n",
       "11                496388.95           321045.66   \n",
       "12                502470.66           311573.33   \n",
       "13                508107.30           282384.14   \n",
       "14                509024.07           275648.28   \n",
       "15                517974.16           275821.54   \n",
       "16                510404.91           308995.49   \n",
       "17                522135.83           273245.58   \n",
       "18                527503.94           298908.37   \n",
       "19                570420.00           324190.00   \n",
       "\n",
       "    Sub-Saharan Africa (excluding high income)  \\\n",
       "0                                    251446.39   \n",
       "1                                    256209.65   \n",
       "2                                    270079.60   \n",
       "3                                    238220.58   \n",
       "4                                    261742.64   \n",
       "5                                    256461.25   \n",
       "6                                    286656.40   \n",
       "7                                    279798.19   \n",
       "8                                    322522.27   \n",
       "9                                    322248.46   \n",
       "10                                   290503.65   \n",
       "11                                   321042.06   \n",
       "12                                   311569.92   \n",
       "13                                   282380.82   \n",
       "14                                   275644.57   \n",
       "15                                   275817.67   \n",
       "16                                   308991.58   \n",
       "17                                   273241.53   \n",
       "18                                   298904.25   \n",
       "19                                   324190.00   \n",
       "\n",
       "    Sub-Saharan Africa (IDA & IBRD countries)  Upper middle income       World  \n",
       "0                                   251448.90           1163422.42  2840961.47  \n",
       "1                                   256212.48           1182836.11  2871562.42  \n",
       "2                                   270082.52           1194238.39  2911944.73  \n",
       "3                                   238223.69           1208394.15  2915398.22  \n",
       "4                                   261745.93           1229920.65  2979621.95  \n",
       "5                                   256464.56           1253881.16  2992540.36  \n",
       "6                                   286659.49           1248804.65  3022537.34  \n",
       "7                                   279801.49           1232434.36  3002825.73  \n",
       "8                                   322525.75           1229392.08  3039479.46  \n",
       "9                                   322252.14           1243881.18  3072596.43  \n",
       "10                                  290507.54           1233669.44  3027894.34  \n",
       "11                                  321045.66           1235021.02  3071454.18  \n",
       "12                                  311573.33           1243053.71  3062602.60  \n",
       "13                                  282384.14           1240505.05  3035226.34  \n",
       "14                                  275648.28           1227241.26  3026622.06  \n",
       "15                                  275821.54           1238406.95  3043764.04  \n",
       "16                                  308995.49           1257327.98  3073432.28  \n",
       "17                                  273245.58           1257808.00  3044655.33  \n",
       "18                                  298908.37           1280854.24  3102061.70  \n",
       "19                                  324190.00           1171570.00  3152440.00  \n",
       "\n",
       "[20 rows x 224 columns]"
      ]
     },
     "execution_count": 157,
     "metadata": {},
     "output_type": "execute_result"
    }
   ],
   "source": [
    "df.head(20)"
   ]
  },
  {
   "cell_type": "code",
   "execution_count": 158,
   "id": "fc8941c1",
   "metadata": {},
   "outputs": [
    {
     "data": {
      "text/plain": [
       "(48, 224)"
      ]
     },
     "execution_count": 158,
     "metadata": {},
     "output_type": "execute_result"
    }
   ],
   "source": [
    "df.shape"
   ]
  },
  {
   "cell_type": "code",
   "execution_count": 159,
   "id": "c9ee795b",
   "metadata": {},
   "outputs": [
    {
     "data": {
      "text/plain": [
       "Unnamed: 0                                      int64\n",
       "Afghanistan                                   float64\n",
       "Albania                                       float64\n",
       "Algeria                                       float64\n",
       "Angola                                        float64\n",
       "                                               ...   \n",
       "Sub-Saharan Africa                            float64\n",
       "Sub-Saharan Africa (excluding high income)    float64\n",
       "Sub-Saharan Africa (IDA & IBRD countries)     float64\n",
       "Upper middle income                           float64\n",
       "World                                         float64\n",
       "Length: 224, dtype: object"
      ]
     },
     "execution_count": 159,
     "metadata": {},
     "output_type": "execute_result"
    }
   ],
   "source": [
    "# checking if the data types are correct.\n",
    "df.dtypes"
   ]
  },
  {
   "cell_type": "code",
   "execution_count": 160,
   "id": "89ba30ae",
   "metadata": {},
   "outputs": [],
   "source": [
    "# Renaming the unnamed column to year.\n",
    "df.rename(columns = {'Unnamed: 0' : 'Year'}, inplace = True)"
   ]
  },
  {
   "cell_type": "code",
   "execution_count": 161,
   "id": "7e272a11",
   "metadata": {},
   "outputs": [
    {
     "data": {
      "text/plain": [
       "Year                                          0\n",
       "Afghanistan                                   0\n",
       "Albania                                       0\n",
       "Algeria                                       0\n",
       "Angola                                        0\n",
       "                                             ..\n",
       "Sub-Saharan Africa                            0\n",
       "Sub-Saharan Africa (excluding high income)    0\n",
       "Sub-Saharan Africa (IDA & IBRD countries)     0\n",
       "Upper middle income                           0\n",
       "World                                         0\n",
       "Length: 224, dtype: int64"
      ]
     },
     "execution_count": 161,
     "metadata": {},
     "output_type": "execute_result"
    }
   ],
   "source": [
    "# Checking for missing values\n",
    "\n",
    "df.isnull().sum()"
   ]
  },
  {
   "cell_type": "markdown",
   "id": "61d7650a",
   "metadata": {},
   "source": [
    "No missing values to handle."
   ]
  },
  {
   "cell_type": "code",
   "execution_count": 165,
   "id": "80bbc272",
   "metadata": {},
   "outputs": [],
   "source": [
    "# Checking for duplicates.\n",
    "dups = df.duplicated()"
   ]
  },
  {
   "cell_type": "code",
   "execution_count": 166,
   "id": "bbdc4b8b",
   "metadata": {},
   "outputs": [
    {
     "data": {
      "text/plain": [
       "(48,)"
      ]
     },
     "execution_count": 166,
     "metadata": {},
     "output_type": "execute_result"
    }
   ],
   "source": [
    "dups.shape "
   ]
  },
  {
   "cell_type": "markdown",
   "id": "80cbda63",
   "metadata": {},
   "source": [
    "No duplicates to address."
   ]
  },
  {
   "cell_type": "code",
   "execution_count": 167,
   "id": "cd7c569b",
   "metadata": {},
   "outputs": [
    {
     "name": "stdout",
     "output_type": "stream",
     "text": [
      "['Year', 'Afghanistan', 'Albania', 'Algeria', 'Angola', 'Antigua and Barbuda', 'Argentina', 'Armenia', 'Australia', 'Austria', 'Azerbaijan', 'Bahamas, The', 'Bahrain', 'Bangladesh', 'Barbados', 'Belarus', 'Belgium', 'Belize', 'Benin', 'Bhutan', 'Bolivia', 'Bosnia and Herzegovina', 'Botswana', 'Brazil', 'Brunei Darussalam', 'Bulgaria', 'Burkina Faso', 'Burundi', 'Cabo Verde', 'Cambodia', 'Cameroon', 'Canada', 'Central African Republic', 'Chad', 'Chile', 'China', 'Colombia', 'Comoros', 'Congo, Dem. Rep.', 'Congo, Rep.', 'Costa Rica', \"Cote d'Ivoire\", 'Croatia', 'Cuba', 'Cyprus', 'Czech Republic', 'Denmark', 'Djibouti', 'Dominica', 'Dominican Republic', 'Ecuador', 'Egypt, Arab Rep.', 'El Salvador', 'Equatorial Guinea', 'Eritrea', 'Estonia', 'Eswatini', 'Ethiopia', 'Fiji', 'Finland', 'France', 'Gabon', 'Gambia, The', 'Georgia', 'Germany', 'Ghana', 'Greece', 'Grenada', 'Guatemala', 'Guinea', 'Guinea-Bissau', 'Guyana', 'Haiti', 'Honduras', 'Hungary', 'Iceland', 'India', 'Indonesia', 'Iran, Islamic Rep.', 'Iraq', 'Ireland', 'Israel', 'Italy', 'Jamaica', 'Japan', 'Jordan', 'Kazakhstan', 'Kenya', \"Korea, Dem. People's Rep.\", 'Korea, Rep.', 'Kuwait', 'Kyrgyz Republic', 'Lao PDR', 'Latvia', 'Lebanon', 'Lesotho', 'Liberia', 'Libya', 'Lithuania', 'Luxembourg', 'Madagascar', 'Malawi', 'Malaysia', 'Mali', 'Malta', 'Mauritania', 'Mauritius', 'Mexico', 'Moldova', 'Mongolia', 'Morocco', 'Mozambique', 'Myanmar', 'Namibia', 'Nepal', 'Netherlands', 'New Zealand', 'Nicaragua', 'Niger', 'Nigeria', 'North Macedonia', 'Norway', 'Oman', 'Pakistan', 'Panama', 'Papua New Guinea', 'Paraguay', 'Peru', 'Philippines', 'Poland', 'Portugal', 'Qatar', 'Romania', 'Russian Federation', 'Rwanda', 'Samoa', 'Saudi Arabia', 'Senegal', 'Sierra Leone', 'Slovak Republic', 'Slovenia', 'Solomon Islands', 'Somalia', 'South Africa', 'Spain', 'Sri Lanka', 'St. Lucia', 'St. Vincent and the Grenadines', 'Sudan', 'Suriname', 'Sweden', 'Switzerland', 'Syrian Arab Republic', 'Tajikistan', 'Tanzania', 'Thailand', 'Timor-Leste', 'Togo', 'Tonga', 'Trinidad and Tobago', 'Tunisia', 'Turkey', 'Turkmenistan', 'Uganda', 'Ukraine', 'United Arab Emirates', 'United Kingdom', 'United States', 'Uruguay', 'Uzbekistan', 'Vanuatu', 'Venezuela, RB', 'Vietnam', 'Yemen, Rep.', 'Zambia', 'Zimbabwe', 'Africa Eastern and Southern', 'Africa Western and Central', 'Arab World', 'Caribbean small states', 'Central Europe and the Baltics', 'Early-demographic dividend', 'East Asia & Pacific', 'East Asia & Pacific (excluding high income)', 'East Asia & Pacific (IDA & IBRD countries)', 'Euro area', 'Europe & Central Asia', 'Europe & Central Asia (excluding high income)', 'Europe & Central Asia (IDA & IBRD countries)', 'European Union', 'Fragile and conflict affected situations', 'Heavily indebted poor countries (HIPC)', 'High income', 'IBRD only', 'IDA & IBRD total', 'IDA blend', 'IDA only', 'IDA total', 'Late-demographic dividend', 'Latin America & Caribbean', 'Latin America & Caribbean (excluding high income)', 'Latin America & the Caribbean (IDA & IBRD countries)', 'Least developed countries: UN classification', 'Low & middle income', 'Low income', 'Lower middle income', 'Middle East & North Africa', 'Middle East & North Africa (excluding high income)', 'Middle East & North Africa (IDA & IBRD countries)', 'Middle income', 'North America', 'OECD members', 'Other small states', 'Pacific island small states', 'Post-demographic dividend', 'Pre-demographic dividend', 'Small states', 'South Asia', 'South Asia (IDA & IBRD)', 'Sub-Saharan Africa', 'Sub-Saharan Africa (excluding high income)', 'Sub-Saharan Africa (IDA & IBRD countries)', 'Upper middle income', 'World']\n"
     ]
    }
   ],
   "source": [
    "# Getting a list of all the column names\n",
    "print(list(df.columns))"
   ]
  },
  {
   "cell_type": "code",
   "execution_count": 168,
   "id": "39aeee1a",
   "metadata": {},
   "outputs": [
    {
     "data": {
      "text/plain": [
       "<AxesSubplot:xlabel='High income', ylabel='Density'>"
      ]
     },
     "execution_count": 168,
     "metadata": {},
     "output_type": "execute_result"
    },
    {
     "data": {
      "image/png": "[encoded data removed]",
      "text/plain": [
       "<Figure size 432x288 with 1 Axes>"
      ]
     },
     "metadata": {
      "needs_background": "light"
     },
     "output_type": "display_data"
    }
   ],
   "source": [
    "# Checking for extreme values\n",
    "sns.distplot(df['High income'], bins=25) "
   ]
  },
  {
   "cell_type": "code",
   "execution_count": 169,
   "id": "ca6f7231",
   "metadata": {},
   "outputs": [
    {
     "data": {
      "text/plain": [
       "<AxesSubplot:xlabel='Low income', ylabel='Density'>"
      ]
     },
     "execution_count": 169,
     "metadata": {},
     "output_type": "execute_result"
    },
    {
     "data": {
      "image/png": "[encoded data removed]",
      "text/plain": [
       "<Figure size 432x288 with 1 Axes>"
      ]
     },
     "metadata": {
      "needs_background": "light"
     },
     "output_type": "display_data"
    }
   ],
   "source": [
    "# Checking for extreme values\n",
    "sns.distplot(df['Low income'], bins=25)"
   ]
  },
  {
   "cell_type": "code",
   "execution_count": 170,
   "id": "139f51b5",
   "metadata": {},
   "outputs": [
    {
     "data": {
      "text/plain": [
       "<AxesSubplot:xlabel='Euro area', ylabel='Density'>"
      ]
     },
     "execution_count": 170,
     "metadata": {},
     "output_type": "execute_result"
    },
    {
     "data": {
      "image/png": "[encoded data removed]",
      "text/plain": [
       "<Figure size 432x288 with 1 Axes>"
      ]
     },
     "metadata": {
      "needs_background": "light"
     },
     "output_type": "display_data"
    }
   ],
   "source": [
    "# Checking for extreme values\n",
    "sns.distplot(df['Euro area'], bins=25)"
   ]
  },
  {
   "cell_type": "code",
   "execution_count": 171,
   "id": "178b43cd",
   "metadata": {},
   "outputs": [
    {
     "data": {
      "text/plain": [
       "<AxesSubplot:xlabel='Heavily indebted poor countries (HIPC)', ylabel='Density'>"
      ]
     },
     "execution_count": 171,
     "metadata": {},
     "output_type": "execute_result"
    },
    {
     "data": {
      "image/png": "[encoded data removed]",
      "text/plain": [
       "<Figure size 432x288 with 1 Axes>"
      ]
     },
     "metadata": {
      "needs_background": "light"
     },
     "output_type": "display_data"
    }
   ],
   "source": [
    "# Checking for extreme values\n",
    "sns.distplot(df['Heavily indebted poor countries (HIPC)'], bins=25)"
   ]
  },
  {
   "cell_type": "code",
   "execution_count": 172,
   "id": "0055d912",
   "metadata": {},
   "outputs": [
    {
     "data": {
      "text/plain": [
       "<AxesSubplot:xlabel='Least developed countries: UN classification', ylabel='Density'>"
      ]
     },
     "execution_count": 172,
     "metadata": {},
     "output_type": "execute_result"
    },
    {
     "data": {
      "image/png": "[encoded data removed]",
      "text/plain": [
       "<Figure size 432x288 with 1 Axes>"
      ]
     },
     "metadata": {
      "needs_background": "light"
     },
     "output_type": "display_data"
    }
   ],
   "source": [
    "# Checking for extreme values\n",
    "sns.distplot(df['Least developed countries: UN classification'], bins=25)"
   ]
  },
  {
   "cell_type": "code",
   "execution_count": 173,
   "id": "be188a02",
   "metadata": {},
   "outputs": [
    {
     "data": {
      "text/plain": [
       "<AxesSubplot:xlabel='European Union', ylabel='Density'>"
      ]
     },
     "execution_count": 173,
     "metadata": {},
     "output_type": "execute_result"
    },
    {
     "data": {
      "image/png": "[encoded data removed]",
      "text/plain": [
       "<Figure size 432x288 with 1 Axes>"
      ]
     },
     "metadata": {
      "needs_background": "light"
     },
     "output_type": "display_data"
    }
   ],
   "source": [
    "# Checking for extreme values\n",
    "sns.distplot(df['European Union'], bins=25)"
   ]
  },
  {
   "cell_type": "code",
   "execution_count": 174,
   "id": "d2bed480",
   "metadata": {},
   "outputs": [
    {
     "data": {
      "text/plain": [
       "<AxesSubplot:xlabel='World', ylabel='Density'>"
      ]
     },
     "execution_count": 174,
     "metadata": {},
     "output_type": "execute_result"
    },
    {
     "data": {
      "image/png": "[encoded data removed]",
      "text/plain": [
       "<Figure size 432x288 with 1 Axes>"
      ]
     },
     "metadata": {
      "needs_background": "light"
     },
     "output_type": "display_data"
    }
   ],
   "source": [
    "# Checking for extreme values\n",
    "sns.distplot(df['World'], bins=25)"
   ]
  },
  {
   "cell_type": "code",
   "execution_count": 175,
   "id": "925e595f",
   "metadata": {},
   "outputs": [
    {
     "data": {
      "text/plain": [
       "241831.135625"
      ]
     },
     "execution_count": 175,
     "metadata": {},
     "output_type": "execute_result"
    }
   ],
   "source": [
    "# Checking the mean\n",
    "df['European Union'].mean()"
   ]
  },
  {
   "cell_type": "code",
   "execution_count": 176,
   "id": "a5d8cb0b",
   "metadata": {},
   "outputs": [
    {
     "data": {
      "text/plain": [
       "439262.870625"
      ]
     },
     "execution_count": 176,
     "metadata": {},
     "output_type": "execute_result"
    }
   ],
   "source": [
    "# Checking the mean\n",
    "df['Least developed countries: UN classification'].mean()"
   ]
  },
  {
   "cell_type": "code",
   "execution_count": 177,
   "id": "01f0c572",
   "metadata": {},
   "outputs": [
    {
     "data": {
      "text/plain": [
       "298538.07833333337"
      ]
     },
     "execution_count": 177,
     "metadata": {},
     "output_type": "execute_result"
    }
   ],
   "source": [
    "# Checking the mean\n",
    "df['Heavily indebted poor countries (HIPC)'].mean()"
   ]
  },
  {
   "cell_type": "code",
   "execution_count": 178,
   "id": "0cfdd3e7",
   "metadata": {},
   "outputs": [
    {
     "data": {
      "text/plain": [
       "243199.29"
      ]
     },
     "execution_count": 178,
     "metadata": {},
     "output_type": "execute_result"
    }
   ],
   "source": [
    "# Checking the median\n",
    "df['European Union'].median()"
   ]
  },
  {
   "cell_type": "code",
   "execution_count": 179,
   "id": "a855bf46",
   "metadata": {},
   "outputs": [
    {
     "data": {
      "text/plain": [
       "406136.325"
      ]
     },
     "execution_count": 179,
     "metadata": {},
     "output_type": "execute_result"
    }
   ],
   "source": [
    "# Checking the median\n",
    "df['Least developed countries: UN classification'].median()"
   ]
  },
  {
   "cell_type": "code",
   "execution_count": 180,
   "id": "30486583",
   "metadata": {},
   "outputs": [
    {
     "data": {
      "text/plain": [
       "270994.71499999997"
      ]
     },
     "execution_count": 180,
     "metadata": {},
     "output_type": "execute_result"
    }
   ],
   "source": [
    "# Checking the median\n",
    "df['Heavily indebted poor countries (HIPC)'].median()"
   ]
  },
  {
   "cell_type": "code",
   "execution_count": 181,
   "id": "87a05c05",
   "metadata": {},
   "outputs": [
    {
     "data": {
      "text/plain": [
       "300160.0"
      ]
     },
     "execution_count": 181,
     "metadata": {},
     "output_type": "execute_result"
    }
   ],
   "source": [
    "# Checking the maximum\n",
    "df['European Union'].max()"
   ]
  },
  {
   "cell_type": "code",
   "execution_count": 182,
   "id": "55fbfc05",
   "metadata": {},
   "outputs": [
    {
     "data": {
      "text/plain": [
       "615960.0"
      ]
     },
     "execution_count": 182,
     "metadata": {},
     "output_type": "execute_result"
    }
   ],
   "source": [
    "# Checking the maximum\n",
    "df['Least developed countries: UN classification'].max()"
   ]
  },
  {
   "cell_type": "code",
   "execution_count": 183,
   "id": "4e720f6b",
   "metadata": {},
   "outputs": [
    {
     "data": {
      "text/plain": [
       "450790.0"
      ]
     },
     "execution_count": 183,
     "metadata": {},
     "output_type": "execute_result"
    }
   ],
   "source": [
    "# Checking the maximum\n",
    "df['Heavily indebted poor countries (HIPC)'].max()"
   ]
  },
  {
   "cell_type": "code",
   "execution_count": 184,
   "id": "b47ecf2b",
   "metadata": {},
   "outputs": [
    {
     "data": {
      "text/plain": [
       "<seaborn.axisgrid.FacetGrid at 0x14c70355ee0>"
      ]
     },
     "execution_count": 184,
     "metadata": {},
     "output_type": "execute_result"
    },
    {
     "data": {
      "image/png": "[encoded data removed]",
      "text/plain": [
       "<Figure size 360x360 with 1 Axes>"
      ]
     },
     "metadata": {
      "needs_background": "light"
     },
     "output_type": "display_data"
    }
   ],
   "source": [
    "# Scatterplot\n",
    "sns.lmplot(x = 'Year', y = 'Arab World', data = df)"
   ]
  },
  {
   "cell_type": "code",
   "execution_count": 185,
   "id": "91485650",
   "metadata": {},
   "outputs": [
    {
     "data": {
      "text/plain": [
       "<seaborn.axisgrid.FacetGrid at 0x14c706219d0>"
      ]
     },
     "execution_count": 185,
     "metadata": {},
     "output_type": "execute_result"
    },
    {
     "data": {
      "image/png": "[encoded data removed]",
      "text/plain": [
       "<Figure size 360x360 with 1 Axes>"
      ]
     },
     "metadata": {
      "needs_background": "light"
     },
     "output_type": "display_data"
    }
   ],
   "source": [
    "# Scatterplot\n",
    "sns.lmplot(x = 'Year', y = 'European Union', data = df)"
   ]
  },
  {
   "cell_type": "code",
   "execution_count": 186,
   "id": "599a5431",
   "metadata": {},
   "outputs": [
    {
     "data": {
      "text/plain": [
       "<seaborn.axisgrid.FacetGrid at 0x14c7036ea90>"
      ]
     },
     "execution_count": 186,
     "metadata": {},
     "output_type": "execute_result"
    },
    {
     "data": {
      "image/png": "[encoded data removed]",
      "text/plain": [
       "<Figure size 360x360 with 1 Axes>"
      ]
     },
     "metadata": {
      "needs_background": "light"
     },
     "output_type": "display_data"
    }
   ],
   "source": [
    "# Scatterplot\n",
    "sns.lmplot(x = 'Year', y = 'Least developed countries: UN classification', data = df)"
   ]
  },
  {
   "cell_type": "code",
   "execution_count": 187,
   "id": "1d24cba3",
   "metadata": {},
   "outputs": [
    {
     "data": {
      "text/plain": [
       "<seaborn.axisgrid.FacetGrid at 0x14c702ecf40>"
      ]
     },
     "execution_count": 187,
     "metadata": {},
     "output_type": "execute_result"
    },
    {
     "data": {
      "image/png": "[encoded data removed]",
      "text/plain": [
       "<Figure size 360x360 with 1 Axes>"
      ]
     },
     "metadata": {
      "needs_background": "light"
     },
     "output_type": "display_data"
    }
   ],
   "source": [
    "# Scatterplot\n",
    "sns.lmplot(x = 'Year', y = 'Heavily indebted poor countries (HIPC)', data = df)"
   ]
  },
  {
   "cell_type": "code",
   "execution_count": 188,
   "id": "7bcb2291",
   "metadata": {},
   "outputs": [
    {
     "data": {
      "text/plain": [
       "<seaborn.axisgrid.FacetGrid at 0x14c7055a2b0>"
      ]
     },
     "execution_count": 188,
     "metadata": {},
     "output_type": "execute_result"
    },
    {
     "data": {
      "image/png": "[encoded data removed]",
      "text/plain": [
       "<Figure size 360x360 with 1 Axes>"
      ]
     },
     "metadata": {
      "needs_background": "light"
     },
     "output_type": "display_data"
    }
   ],
   "source": [
    "# Scatterplot\n",
    "sns.lmplot(x = 'Year', y = 'High income', data = df)"
   ]
  },
  {
   "cell_type": "markdown",
   "id": "6b40bd6e",
   "metadata": {},
   "source": [
    "Having looked at my dataset after being introduced to the regression analysis topic, I realised that up until now I was not putting any focus on the 'Year' datapoint. Having checked the relationship between the year and some of the other datapoints from my set, I would be very interested now to test the regression model using the year as a constant variable.\n",
    "\n",
    "NULL HYPOTHESIS: The polution in the Economically more developed countries (countries with higher incomes and which are not part of the developing world) has been increasing over time. \n",
    "\n",
    "Alternative Hypothesis: The polution in the Economically more developed countries (countries with higher incomes and which are not part of the developing world) has been decreasing over time. "
   ]
  },
  {
   "cell_type": "markdown",
   "id": "f2d58580",
   "metadata": {},
   "source": [
    "## Data prep for regression analysis "
   ]
  },
  {
   "cell_type": "code",
   "execution_count": 189,
   "id": "55bf1b80",
   "metadata": {},
   "outputs": [
    {
     "data": {
      "image/png": "[encoded data removed]",
      "text/plain": [
       "<Figure size 432x288 with 1 Axes>"
      ]
     },
     "metadata": {
      "needs_background": "light"
     },
     "output_type": "display_data"
    }
   ],
   "source": [
    "# Create a scatterplot using matplotlib for another look at how the chosen variables plot against each other.\n",
    "\n",
    "df.plot(x = 'Year', y='High income',style='o') # The style option creates a scatterplot; without it, we only have lines.\n",
    "plt.title('Polution Development over Time')  \n",
    "plt.xlabel('Year')  \n",
    "plt.ylabel('High income')  \n",
    "plt.show() "
   ]
  },
  {
   "cell_type": "code",
   "execution_count": 190,
   "id": "562611c0",
   "metadata": {},
   "outputs": [
    {
     "data": {
      "image/png": "[encoded data removed]",
      "text/plain": [
       "<Figure size 432x288 with 1 Axes>"
      ]
     },
     "metadata": {
      "needs_background": "light"
     },
     "output_type": "display_data"
    }
   ],
   "source": [
    "# Creating a scatterplot using matplotlib for another look at how the chosen variables plot against each other.\n",
    "df.plot(x = 'Year', y='Low income',style='o') # The style option creates a scatterplot; without it, we only have lines.\n",
    "plt.title('Polution Development over Time')  \n",
    "plt.xlabel('Year')  \n",
    "plt.ylabel('Low Income')  \n",
    "plt.show() "
   ]
  },
  {
   "cell_type": "code",
   "execution_count": 191,
   "id": "853dc72f",
   "metadata": {},
   "outputs": [
    {
     "data": {
      "image/png": "[encoded data removed]",
      "text/plain": [
       "<Figure size 432x288 with 1 Axes>"
      ]
     },
     "metadata": {
      "needs_background": "light"
     },
     "output_type": "display_data"
    }
   ],
   "source": [
    "# Creating a scatterplot using matplotlib for another look at how the chosen variables plot against each other.\n",
    "df.plot(x = 'Year', y='European Union',style='o') # The style option creates a scatterplot; without it, we only have lines.\n",
    "plt.title('Polution Development over Time')  \n",
    "plt.xlabel('Year')  \n",
    "plt.ylabel('European Union')  \n",
    "plt.show()"
   ]
  },
  {
   "cell_type": "code",
   "execution_count": 192,
   "id": "ce44caf4",
   "metadata": {},
   "outputs": [
    {
     "data": {
      "image/png": "[encoded data removed]",
      "text/plain": [
       "<Figure size 432x288 with 1 Axes>"
      ]
     },
     "metadata": {
      "needs_background": "light"
     },
     "output_type": "display_data"
    }
   ],
   "source": [
    "# Creating a scatterplot using matplotlib for another look at how the chosen variables plot against each other.\n",
    "df.plot(x = 'Year', y='Least developed countries: UN classification',style='o') # The style option creates a scatterplot; without it, we only have lines.\n",
    "plt.title('Polution Development over Time')  \n",
    "plt.xlabel('Year')  \n",
    "plt.ylabel('Least developed countries: UN classification')  \n",
    "plt.show()"
   ]
  },
  {
   "cell_type": "code",
   "execution_count": 193,
   "id": "e65918aa",
   "metadata": {},
   "outputs": [
    {
     "data": {
      "image/png": "[encoded data removed]",
      "text/plain": [
       "<Figure size 432x288 with 1 Axes>"
      ]
     },
     "metadata": {
      "needs_background": "light"
     },
     "output_type": "display_data"
    }
   ],
   "source": [
    "# Creating a scatterplot using matplotlib for another look at how the chosen variables plot against each other.\n",
    "df.plot(x = 'Year', y='World',style='o') # The style option creates a scatterplot; without it, we only have lines.\n",
    "plt.title('Polution Development over Time')  \n",
    "plt.xlabel('Year')  \n",
    "plt.ylabel('World')  \n",
    "plt.show()"
   ]
  },
  {
   "cell_type": "code",
   "execution_count": 194,
   "id": "0d236743",
   "metadata": {},
   "outputs": [
    {
     "data": {
      "image/png": "[encoded data removed]",
      "text/plain": [
       "<Figure size 432x288 with 1 Axes>"
      ]
     },
     "metadata": {
      "needs_background": "light"
     },
     "output_type": "display_data"
    }
   ],
   "source": [
    "# Creating a scatterplot using matplotlib for another look at how the chosen variables plot against each other.\n",
    "df.plot(x = 'Year', y= 'United States',style='o') # The style option creates a scatterplot; without it, we only have lines.\n",
    "plt.title('Polution Development over Time')  \n",
    "plt.xlabel('Year')  \n",
    "plt.ylabel('United States')  \n",
    "plt.show()"
   ]
  },
  {
   "cell_type": "code",
   "execution_count": 195,
   "id": "c61e439e",
   "metadata": {},
   "outputs": [
    {
     "data": {
      "image/png": "[encoded data removed]",
      "text/plain": [
       "<Figure size 432x288 with 1 Axes>"
      ]
     },
     "metadata": {
      "needs_background": "light"
     },
     "output_type": "display_data"
    }
   ],
   "source": [
    "# Creating a scatterplot using matplotlib for another look at how the chosen variables plot against each other.\n",
    "df.plot(x = 'Year', y= 'United Kingdom',style='o') # The style option creates a scatterplot; without it, we only have lines.\n",
    "plt.title('Polution Development over Time')  \n",
    "plt.xlabel('Year')  \n",
    "plt.ylabel('United Kingdom')  \n",
    "plt.show()"
   ]
  },
  {
   "cell_type": "code",
   "execution_count": 196,
   "id": "85cb09ec",
   "metadata": {},
   "outputs": [],
   "source": [
    "# Reshaping the variables into NumPy arrays and put them into separate objects.\n",
    "X = df['Year'].values.reshape(-1,1)\n",
    "y = df['High income'].values.reshape(-1,1)"
   ]
  },
  {
   "cell_type": "code",
   "execution_count": 197,
   "id": "7ebe1d69",
   "metadata": {},
   "outputs": [
    {
     "data": {
      "text/plain": [
       "array([[1971],\n",
       "       [1972],\n",
       "       [1973],\n",
       "       [1974],\n",
       "       [1975],\n",
       "       [1976],\n",
       "       [1977],\n",
       "       [1978],\n",
       "       [1979],\n",
       "       [1980],\n",
       "       [1981],\n",
       "       [1982],\n",
       "       [1983],\n",
       "       [1984],\n",
       "       [1985],\n",
       "       [1986],\n",
       "       [1987],\n",
       "       [1988],\n",
       "       [1989],\n",
       "       [1990],\n",
       "       [1991],\n",
       "       [1992],\n",
       "       [1993],\n",
       "       [1994],\n",
       "       [1995],\n",
       "       [1996],\n",
       "       [1997],\n",
       "       [1998],\n",
       "       [1999],\n",
       "       [2000],\n",
       "       [2001],\n",
       "       [2002],\n",
       "       [2003],\n",
       "       [2004],\n",
       "       [2005],\n",
       "       [2006],\n",
       "       [2007],\n",
       "       [2008],\n",
       "       [2009],\n",
       "       [2010],\n",
       "       [2011],\n",
       "       [2012],\n",
       "       [2013],\n",
       "       [2014],\n",
       "       [2015],\n",
       "       [2016],\n",
       "       [2017],\n",
       "       [2018]], dtype=int64)"
      ]
     },
     "execution_count": 197,
     "metadata": {},
     "output_type": "execute_result"
    }
   ],
   "source": [
    "X"
   ]
  },
  {
   "cell_type": "code",
   "execution_count": 198,
   "id": "9ec4e0a3",
   "metadata": {},
   "outputs": [
    {
     "data": {
      "text/plain": [
       "array([[635348.37],\n",
       "       [646471.18],\n",
       "       [648492.7 ],\n",
       "       [669820.7 ],\n",
       "       [679776.34],\n",
       "       [676391.9 ],\n",
       "       [669379.93],\n",
       "       [658641.43],\n",
       "       [661117.71],\n",
       "       [670901.99],\n",
       "       [661095.58],\n",
       "       [667655.07],\n",
       "       [651208.08],\n",
       "       [656564.53],\n",
       "       [660722.78],\n",
       "       [652142.38],\n",
       "       [634436.11],\n",
       "       [635112.83],\n",
       "       [634437.59],\n",
       "       [719110.  ],\n",
       "       [709640.  ],\n",
       "       [701860.  ],\n",
       "       [692000.  ],\n",
       "       [695320.  ],\n",
       "       [691360.  ],\n",
       "       [683670.  ],\n",
       "       [681490.  ],\n",
       "       [677470.  ],\n",
       "       [687920.  ],\n",
       "       [691730.  ],\n",
       "       [695540.  ],\n",
       "       [687650.  ],\n",
       "       [644100.  ],\n",
       "       [664860.  ],\n",
       "       [644560.  ],\n",
       "       [661750.  ],\n",
       "       [656440.  ],\n",
       "       [639160.  ],\n",
       "       [637310.  ],\n",
       "       [622840.  ],\n",
       "       [665310.  ],\n",
       "       [662240.  ],\n",
       "       [620250.  ],\n",
       "       [631540.  ],\n",
       "       [626700.  ],\n",
       "       [616060.  ],\n",
       "       [636740.  ],\n",
       "       [636990.  ]])"
      ]
     },
     "execution_count": 198,
     "metadata": {},
     "output_type": "execute_result"
    }
   ],
   "source": [
    "y"
   ]
  },
  {
   "cell_type": "code",
   "execution_count": 199,
   "id": "059629e6",
   "metadata": {},
   "outputs": [],
   "source": [
    "# Splitting data into a training set and a test set.\n",
    "X_train, X_test, y_train, y_test = train_test_split(X, y, test_size=0.3, random_state=0)"
   ]
  },
  {
   "cell_type": "markdown",
   "id": "1e0ea645",
   "metadata": {},
   "source": [
    "## Regression analysis"
   ]
  },
  {
   "cell_type": "code",
   "execution_count": 205,
   "id": "9d59eb11",
   "metadata": {},
   "outputs": [],
   "source": [
    "# Creating a regression object.\n",
    "regression = LinearRegression() "
   ]
  },
  {
   "cell_type": "code",
   "execution_count": 206,
   "id": "0fb2fd76",
   "metadata": {},
   "outputs": [
    {
     "data": {
      "text/plain": [
       "LinearRegression()"
      ]
     },
     "execution_count": 206,
     "metadata": {},
     "output_type": "execute_result"
    }
   ],
   "source": [
    "# Fitting the regression object onto the training set.\n",
    "regression.fit(X_train, y_train)"
   ]
  },
  {
   "cell_type": "code",
   "execution_count": 207,
   "id": "6534d055",
   "metadata": {},
   "outputs": [],
   "source": [
    "# Predicting the values of y using X.\n",
    "y_predicted = regression.predict(X_test)"
   ]
  },
  {
   "cell_type": "code",
   "execution_count": 208,
   "id": "9123e9e2",
   "metadata": {},
   "outputs": [
    {
     "data": {
      "image/png": "[encoded data removed]",
      "text/plain": [
       "<Figure size 432x288 with 1 Axes>"
      ]
     },
     "metadata": {
      "needs_background": "light"
     },
     "output_type": "display_data"
    }
   ],
   "source": [
    "# Creating a plot that shows the regression line from the model on the test set.\n",
    "plot_test = plt\n",
    "plot_test.scatter(X_test, y_test, color='blue', s = 15)\n",
    "plot_test.plot(X_test, y_predicted, color='red', linewidth =3)\n",
    "plot_test.title('Polution Development over Time (Test set)')\n",
    "plot_test.xlabel('Year')\n",
    "plot_test.ylabel('High income')\n",
    "plot_test.show()"
   ]
  },
  {
   "cell_type": "code",
   "execution_count": 209,
   "id": "0ff2158f",
   "metadata": {},
   "outputs": [],
   "source": [
    "# Creating objects that contain the model summary statistics.\n",
    "rmse = mean_squared_error(y_test, y_predicted) # This is the mean squared error\n",
    "r2 = r2_score(y_test, y_predicted) # This is the R2 score. "
   ]
  },
  {
   "cell_type": "code",
   "execution_count": 210,
   "id": "da88f574",
   "metadata": {},
   "outputs": [
    {
     "name": "stdout",
     "output_type": "stream",
     "text": [
      "Slope: [[-567.52583582]]\n",
      "Mean squared error:  407845166.17163235\n",
      "R2 score:  -0.18877595154682436\n"
     ]
    }
   ],
   "source": [
    "# Printing the model summary statistics. This is where you evaluate the performance of the model.\n",
    "print('Slope:' ,regression.coef_)\n",
    "print('Mean squared error: ', rmse)\n",
    "print('R2 score: ', r2)"
   ]
  },
  {
   "cell_type": "code",
   "execution_count": 211,
   "id": "d157b449",
   "metadata": {},
   "outputs": [
    {
     "data": {
      "text/plain": [
       "array([[655347.58834145],\n",
       "       [669535.73423706],\n",
       "       [657050.16584892],\n",
       "       [654780.06250563],\n",
       "       [653645.01083398],\n",
       "       [650807.38165486],\n",
       "       [652509.95916233],\n",
       "       [649104.80414738],\n",
       "       [667833.15672959],\n",
       "       [666130.57922211],\n",
       "       [665563.05338629],\n",
       "       [654212.5366698 ],\n",
       "       [653077.48499815],\n",
       "       [656482.6400131 ],\n",
       "       [645132.12329661]])"
      ]
     },
     "execution_count": 211,
     "metadata": {},
     "output_type": "execute_result"
    }
   ],
   "source": [
    "y_predicted"
   ]
  },
  {
   "cell_type": "code",
   "execution_count": 212,
   "id": "e7d612e3",
   "metadata": {},
   "outputs": [
    {
     "data": {
      "text/html": [
       "<div>\n",
       "<style scoped>\n",
       "    .dataframe tbody tr th:only-of-type {\n",
       "        vertical-align: middle;\n",
       "    }\n",
       "\n",
       "    .dataframe tbody tr th {\n",
       "        vertical-align: top;\n",
       "    }\n",
       "\n",
       "    .dataframe thead th {\n",
       "        text-align: right;\n",
       "    }\n",
       "</style>\n",
       "<table border=\"1\" class=\"dataframe\">\n",
       "  <thead>\n",
       "    <tr style=\"text-align: right;\">\n",
       "      <th></th>\n",
       "      <th>Actual</th>\n",
       "      <th>Predicted</th>\n",
       "    </tr>\n",
       "  </thead>\n",
       "  <tbody>\n",
       "    <tr>\n",
       "      <th>0</th>\n",
       "      <td>691730.00</td>\n",
       "      <td>655347.588341</td>\n",
       "    </tr>\n",
       "    <tr>\n",
       "      <th>1</th>\n",
       "      <td>679776.34</td>\n",
       "      <td>669535.734237</td>\n",
       "    </tr>\n",
       "    <tr>\n",
       "      <th>2</th>\n",
       "      <td>681490.00</td>\n",
       "      <td>657050.165849</td>\n",
       "    </tr>\n",
       "    <tr>\n",
       "      <th>3</th>\n",
       "      <td>695540.00</td>\n",
       "      <td>654780.062506</td>\n",
       "    </tr>\n",
       "    <tr>\n",
       "      <th>4</th>\n",
       "      <td>644100.00</td>\n",
       "      <td>653645.010834</td>\n",
       "    </tr>\n",
       "    <tr>\n",
       "      <th>5</th>\n",
       "      <td>639160.00</td>\n",
       "      <td>650807.381655</td>\n",
       "    </tr>\n",
       "    <tr>\n",
       "      <th>6</th>\n",
       "      <td>644560.00</td>\n",
       "      <td>652509.959162</td>\n",
       "    </tr>\n",
       "    <tr>\n",
       "      <th>7</th>\n",
       "      <td>665310.00</td>\n",
       "      <td>649104.804147</td>\n",
       "    </tr>\n",
       "    <tr>\n",
       "      <th>8</th>\n",
       "      <td>658641.43</td>\n",
       "      <td>667833.156730</td>\n",
       "    </tr>\n",
       "    <tr>\n",
       "      <th>9</th>\n",
       "      <td>661095.58</td>\n",
       "      <td>666130.579222</td>\n",
       "    </tr>\n",
       "    <tr>\n",
       "      <th>10</th>\n",
       "      <td>667655.07</td>\n",
       "      <td>665563.053386</td>\n",
       "    </tr>\n",
       "    <tr>\n",
       "      <th>11</th>\n",
       "      <td>687650.00</td>\n",
       "      <td>654212.536670</td>\n",
       "    </tr>\n",
       "    <tr>\n",
       "      <th>12</th>\n",
       "      <td>664860.00</td>\n",
       "      <td>653077.484998</td>\n",
       "    </tr>\n",
       "    <tr>\n",
       "      <th>13</th>\n",
       "      <td>677470.00</td>\n",
       "      <td>656482.640013</td>\n",
       "    </tr>\n",
       "    <tr>\n",
       "      <th>14</th>\n",
       "      <td>636990.00</td>\n",
       "      <td>645132.123297</td>\n",
       "    </tr>\n",
       "  </tbody>\n",
       "</table>\n",
       "</div>"
      ],
      "text/plain": [
       "       Actual      Predicted\n",
       "0   691730.00  655347.588341\n",
       "1   679776.34  669535.734237\n",
       "2   681490.00  657050.165849\n",
       "3   695540.00  654780.062506\n",
       "4   644100.00  653645.010834\n",
       "5   639160.00  650807.381655\n",
       "6   644560.00  652509.959162\n",
       "7   665310.00  649104.804147\n",
       "8   658641.43  667833.156730\n",
       "9   661095.58  666130.579222\n",
       "10  667655.07  665563.053386\n",
       "11  687650.00  654212.536670\n",
       "12  664860.00  653077.484998\n",
       "13  677470.00  656482.640013\n",
       "14  636990.00  645132.123297"
      ]
     },
     "execution_count": 212,
     "metadata": {},
     "output_type": "execute_result"
    }
   ],
   "source": [
    "# Creating a dataframe comparing the actual and predicted values of y.\n",
    "data = pd.DataFrame({'Actual': y_test.flatten(), 'Predicted': y_predicted.flatten()})\n",
    "data.head(30)"
   ]
  },
  {
   "cell_type": "markdown",
   "id": "9f35c6a3",
   "metadata": {},
   "source": [
    "## Compare how the regression fits the training set"
   ]
  },
  {
   "cell_type": "code",
   "execution_count": 213,
   "id": "6e9071a7",
   "metadata": {},
   "outputs": [],
   "source": [
    "# Predicting.\n",
    "y_predicted_train = regression.predict(X_train) # This is predicting X_train!"
   ]
  },
  {
   "cell_type": "code",
   "execution_count": 214,
   "id": "4afb840f",
   "metadata": {},
   "outputs": [],
   "source": [
    "rmse = mean_squared_error(y_train, y_predicted_train)\n",
    "r2 = r2_score(y_train, y_predicted_train)"
   ]
  },
  {
   "cell_type": "code",
   "execution_count": 215,
   "id": "9dee09bd",
   "metadata": {},
   "outputs": [
    {
     "name": "stdout",
     "output_type": "stream",
     "text": [
      "Slope: [[-567.52583582]]\n",
      "Mean squared error:  653930529.2187383\n",
      "R2 score:  0.09129776476259532\n"
     ]
    }
   ],
   "source": [
    "print('Slope:' ,regression.coef_)\n",
    "print('Mean squared error: ', rmse)\n",
    "print('R2 score: ', r2)"
   ]
  },
  {
   "cell_type": "code",
   "execution_count": 216,
   "id": "af096855",
   "metadata": {},
   "outputs": [
    {
     "data": {
      "image/png": "[encoded data removed]",
      "text/plain": [
       "<Figure size 432x288 with 1 Axes>"
      ]
     },
     "metadata": {
      "needs_background": "light"
     },
     "output_type": "display_data"
    }
   ],
   "source": [
    "# Visualizing the training set results.\n",
    "plot_test = plt\n",
    "plot_test.scatter(X_train, y_train, color='green', s = 15)\n",
    "plot_test.plot(X_train, y_predicted_train, color='red', linewidth =3)\n",
    "plot_test.title('Polution Development over Time (Training set)')\n",
    "plot_test.xlabel('Year')\n",
    "plot_test.ylabel('High Income')\n",
    "plot_test.show()"
   ]
  },
  {
   "cell_type": "markdown",
   "id": "c1ad67c2",
   "metadata": {},
   "source": [
    "The lines both in my Test set and in my Training set are not covering my data points. The data shows to have a lot of outliers, which for something being measured, such as polution levels cannot be removed from the equation. \n",
    "\n",
    "Looking at the slopes for both the test and the training sets, their slopes are negative-  as X rises (as the x rises- the years pass by), y drops (the polution level in high income countries). \n",
    "\n",
    "The root mean squared error (MSE) is an estimator that measures the average of the squared difference between the estimated values and the true values. It tells us how close a regression line is to a set of points (i.e., its accuracy). It does so by taking the distances from the points to the regression line and squaring them. The larger the distance, the farther away the regression line is from the data points, indicating that the regression line isn’t an accurate representation of the data. A small MSE, however, means that the regression line passes fairly close to the observations, making it a good fit. For both our training and test sets, the MSEs are quite large hense the regression my not be the most accurate representation of my data.\n",
    "\n",
    "R2 score or R squared, which is a metric that tells us how well the model explains the variance in the data. It’s a number (usually) between 0 and 1, where values closer to 0 indicate a poor fit, and values closer to 1 indicate a good fit. It can also take a negative value if the model fits worse than a horizontal line. Since my values (-0.19 for te test set and  0.09 for the training set are very far from the 100%- it would be another sign that my model is not suitable for this analysis. "
   ]
  }
 ],
 "metadata": {
  "kernelspec": {
   "display_name": "Python 3 (ipykernel)",
   "language": "python",
   "name": "python3"
  },
  "language_info": {
   "codemirror_mode": {
    "name": "ipython",
    "version": 3
   },
   "file_extension": ".py",
   "mimetype": "text/x-python",
   "name": "python",
   "nbconvert_exporter": "python",
   "pygments_lexer": "ipython3",
   "version": "3.8.12"
  }
 },
 "nbformat": 4,
 "nbformat_minor": 5
}
